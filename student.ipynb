{
 "cells": [
  {
   "cell_type": "markdown",
   "metadata": {},
   "source": [
    "## Final Project Submission\n",
    "\n",
    "Please fill out:\n",
    "* Student name: \n",
    "* Student pace: self paced / part time / full time\n",
    "* Scheduled project review date/time: \n",
    "* Instructor name: \n",
    "* Blog post URL:\n"
   ]
  },
  {
   "cell_type": "markdown",
   "metadata": {},
   "source": [
    "# 1.0 Introduction\n",
    "## 1.1 Background\n",
    "\n",
    "The real estate industry thrives on a foundation of accurate property valuations and market analysis. In dynamic markets characterized by fierce competition, real estate agents require reliable tools to determine optimal listing prices, attract buyers quickly, and maximize profits for their sellers. The real estate market is highly competitive. Pricing homes accurately is essential for attracting buyers, maximizing profits for sellers, and ensuring timely sales Traditionally, agents may rely heavily on recent comparable sales and their own experience, which can introduce subjectivity and potential for pricing errors. \n",
    "\n",
    "Additionally, limited availability of housing inventory, particularly in desirable neighborhoods or regions with high demand, can lead to increased buyer competition and inflated prices. This shortage may also result in longer wait times for buyers to find suitable properties. Meeting the diverse needs and preferences of clients, including first-time homebuyers, investors, and downsizing retirees, requires housing agents to have a deep understanding of market trends, property features, and financing options. \n",
    "\n",
    "Addressing these challenges requires collaboration and innovation within the real estate industry and proactive measures to promote affordability, fairness, and sustainability in housing markets. This project aims to provide agents with a data-driven tool to refine pricing strategies, highlight a property's most valuable assets, and offer informed recommendations for potential value-boosting renovations. \n",
    "\n",
    "A data-driven approach to property valuation can offer agents a significant edge, enabling them to make informed decisions based on market trends and property characteristics, ultimately leading to successful transactions for all parties involved."
   ]
  },
  {
   "cell_type": "markdown",
   "metadata": {},
   "source": [
    "### 1.2 Problem Statement\n",
    "The real estate market in the King County region faces challenges in accurately pricing homes, understanding the factors driving property values, and providing targeted renovation advice to homeowners. Traditional valuation methods may lack precision and fail to account for the diverse range of features influencing home prices. Consequently, real estate agents may struggle to offer accurate pricing estimates and relevant advice to clients, leading to suboptimal outcomes for both buyers and sellers.\n"
   ]
  },
  {
   "cell_type": "markdown",
   "metadata": {},
   "source": [
    "\n",
    "### 1.3 Aim of Project\n",
    "This project aims to develop data-driven models to support real estate agents in the King County region with accurate property pricing and targeted insights for client consultations. Specifically, the project will:\n",
    "\n",
    "i. \n",
    " Create a model for house price prediction: Provide price predictions for potential listings based on key property characteristics.\n",
    "\n",
    "ii.\n",
    " Create a model for price range prediction: Establish realistic price ranges for properties based on their features, enhancing agents' negotiation strategies.\n"
   ]
  },
  {
   "cell_type": "markdown",
   "metadata": {},
   "source": [
    "### 1.4 Main Objective\n",
    "Empower real estate agents with data-backed  pricing tools to optimize listing strategies, improve  client communication, and maximize seller outcomes.\n",
    "\n",
    "### 1.5 Other Objectives\n",
    "i)\tDevelop a multiple linear regression model using the King County Housing dataset to predict home prices based on various features accurately.\n",
    "ii)\tProvide actionable insights to real estate agents to assist them in pricing homes accurately, understanding factors influencing property values, and advising homeowners on targeted renovations.\n",
    "iii)\tUnderstanding the features that have the most significant impact on home prices for effective marketing and negotiation strategies.\n",
    "\n",
    "### 1.6. Business and Data Understanding\n",
    "#### 1.6.1 Stakeholder\n",
    "Real estate agents in King County face a competitive market where accurate property valuations are essential for success.  This project aims to address these challenges by developing data-driven models that will equip agents with the following:\n",
    "\n",
    "#### 1.6.2 Business Needs\n",
    "* Competitive Pricing: The price prediction model will provide objective estimates of a property's fair market value,  helping agents establish initial listing prices that are competitive yet realistic.  This will attract qualified buyers quickly and minimize the time a property sits on the market.  Additionally, the model's insights can inform negotiation strategies, empowering agents to make data-supported decisions throughout the selling process.\n",
    "\n",
    "* Understanding Value Drivers: By analyzing the impact of various housing features on predicted prices, the models will shed light on which characteristics are most desired by buyers in the King County market.  This will allow agents to identify a property's strengths and potential areas for improvement.  For instance, the model might reveal that a property with a large backyard is likely to command a higher price than one without.  Armed with this knowledge, agents can effectively highlight a property's most valuable assets in marketing materials and during client consultations.\n",
    "\n",
    "* Client Communication: Data-driven insights can significantly enhance communication and build trust with clients.  Agents can leverage the model's predictions and analysis of value drivers to provide sellers with clear explanations of the pricing strategy and recommendations for optimizations.  This fosters transparency and empowers sellers to make informed decisions throughout the listing process.\n",
    "\n",
    "To address these challenges, this project aims to leverage regression analysis on the King County Housing dataset. By developing a robust regression model, we seek to identify the key drivers of property value and provide real estate agents with actionable insights for pricing homes accurately and advising homeowners on strategic renovations. Our objective is to empower real estate agents with data-driven tools and knowledge to enhance their decision-making process and ultimately improve customer satisfaction and trust in the real estate market.\n",
    "\n",
    "### 1.7 Methodology\n",
    "\n",
    "#### 1.7.1 Dataset\n",
    "King County House Sales dataset (kc_house_data.csv).\n",
    "\n",
    "#### 1.7.2 Statistical Approach\n",
    "Multiple linear regression is a well-established statistical technique for modeling continuous relationships between a dependent variable (in our case, house price) and multiple independent variables (such as square footage, number of bedrooms, and waterfront location). By analyzing the historical sales data in the King County dataset, the model will learn the weights (coefficients) of each feature's influence on price. This allows the model to generate a prediction for the price of a new house based on its specific characteristics. \n",
    "\n",
    "#### 1.8 Features (Columns) Used and Their Relevance:\n",
    "\n",
    "* id: Unique identifier for each house sale record. May not be directly used for modeling, but essential for data cleaning and reference.\n",
    "* date: Date of the house sale. Useful for time-based analysis, filtering by timeframe, or creating features related to seasonality.\n",
    "* price: The target variable – the outcome we aim to predict.\n",
    "* bedrooms: Number of bedrooms, essential for accommodating buyer needs.\n",
    "* bathrooms: Number of bathrooms, impacting convenience and value.\n",
    "* sqft_living: Square footage of interior living space, a major price driver.\n",
    "* sqft_lot: Square footage of the land parcel, affecting lot size and potential use.\n",
    "* floors: Number of floors in the house, a possible indicator of layout and space.\n",
    "* waterfront: Binary variable indicating whether the property has waterfront access, a highly desirable feature in the region.\n",
    "* view: Rated view quality of the property, a potential value-adding aspect.\n",
    "* condition: Overall condition of the house, likely affecting price and renovation needs.\n",
    "* grade: Overall grade assigned to the housing unit based on King County grading system. Understanding the details of this grading system is crucial.\n",
    "* sqft_above: Square footage of the house excluding the basement.\n",
    "* sqft_basement: Square footage of the basement, if present.\n",
    "* yr_built: Year the house was originally built, indicating age.\n",
    "* yr_renovated: Year of the last renovation, if applicable. Influences condition and potential for further updates.\n",
    "* zipcode: Geographic location, potentially related to market dynamics and neighborhood desirability.\n",
    "* lat: Latitude coordinate, useful for mapping or finer-grained location analysis.\n",
    "* long: Longitude coordinate, used in conjunction with latitude.\n",
    "* sqft_living15: Living space of homes in the neighborhood (15 nearest neighbors). Can provide insight into local market comparisons.\n",
    "* sqft_lot15: Lot size of homes in the neighborhood (15 nearest neighbors).\n",
    "\n"
   ]
  },
  {
   "cell_type": "markdown",
   "metadata": {},
   "source": [
    "## 2.0 Data Prepartion\n",
    "### 2.1 Importing Libraries"
   ]
  },
  {
   "cell_type": "markdown",
   "metadata": {},
   "source": [
    "In the following cell, we are importing several libraries that we will use throughout this notebook. Libraries like `numpy` and `pandas` are fundamental for data manipulation and analysis. `matplotlib` and `seaborn` are used for data visualization.`sklearn` provides tools for data mining and data analysis, including model selection and linear regression, and `missingno` offers a convenient way to visualize missing data."
   ]
  },
  {
   "cell_type": "code",
   "execution_count": 3,
   "metadata": {},
   "outputs": [
    {
     "ename": "ModuleNotFoundError",
     "evalue": "No module named 'missingno'",
     "output_type": "error",
     "traceback": [
      "\u001b[0;31m---------------------------------------------------------------------------\u001b[0m",
      "\u001b[0;31mModuleNotFoundError\u001b[0m                       Traceback (most recent call last)",
      "Cell \u001b[0;32mIn[3], line 9\u001b[0m\n\u001b[1;32m      7\u001b[0m \u001b[39mfrom\u001b[39;00m \u001b[39msklearn\u001b[39;00m\u001b[39m.\u001b[39;00m\u001b[39mlinear_model\u001b[39;00m \u001b[39mimport\u001b[39;00m LinearRegression\n\u001b[1;32m      8\u001b[0m \u001b[39mfrom\u001b[39;00m \u001b[39msklearn\u001b[39;00m\u001b[39m.\u001b[39;00m\u001b[39mmetrics\u001b[39;00m \u001b[39mimport\u001b[39;00m mean_squared_error, r2_score\n\u001b[0;32m----> 9\u001b[0m \u001b[39mimport\u001b[39;00m \u001b[39mmissingno\u001b[39;00m \u001b[39mas\u001b[39;00m \u001b[39mmsno\u001b[39;00m \n\u001b[1;32m     10\u001b[0m \u001b[39mfrom\u001b[39;00m \u001b[39mdatetime\u001b[39;00m \u001b[39mimport\u001b[39;00m datetime\n\u001b[1;32m     11\u001b[0m \u001b[39mimport\u001b[39;00m \u001b[39mstatsmodels\u001b[39;00m\u001b[39m.\u001b[39;00m\u001b[39mapi\u001b[39;00m \u001b[39mas\u001b[39;00m \u001b[39msm\u001b[39;00m\n",
      "\u001b[0;31mModuleNotFoundError\u001b[0m: No module named 'missingno'"
     ]
    }
   ],
   "source": [
    "# Importing libraries\n",
    "import numpy as np\n",
    "import pandas as pd\n",
    "import matplotlib.pyplot as plt\n",
    "import seaborn as sns\n",
    "from sklearn.model_selection import train_test_split\n",
    "from sklearn.linear_model import LinearRegression\n",
    "from sklearn.metrics import mean_squared_error, r2_score\n",
    "import missingno as msno \n",
    "from datetime import datetime\n",
    "import statsmodels.api as sm\n",
    "import seaborn as sns"
   ]
  },
  {
   "cell_type": "markdown",
   "metadata": {},
   "source": [
    "### 2.2 Data Overview\n",
    "In this section, we will load the real estate data from a CSV file and perform some initial exploration."
   ]
  },
  {
   "cell_type": "code",
   "execution_count": null,
   "metadata": {},
   "outputs": [],
   "source": [
    "# Load the data\n",
    "df = pd.read_csv('kc_house_data.csv')\n",
    "\n",
    "# Display the first few rows of the DataFrame\n",
    "print(df.head())\n",
    "\n",
    "# Display the last few rows of the DataFrame\n",
    "print(df.tail())\n",
    "\n",
    "# Describe the data\n",
    "print(df.describe().transpose())\n",
    "\n",
    "# Provide info about the data\n",
    "print(df.info())\n",
    "\n",
    "# Check for missing values\n",
    "print(df.isnull().sum())\n",
    "\n",
    "# Visualize missing data\n",
    "msno.bar(df)\n",
    "\n",
    "# Check for duplicate rows\n",
    "duplicates = df.duplicated()\n",
    "print(f\"Number of duplicate rows = {duplicates.sum()}\")\n"
   ]
  },
  {
   "cell_type": "markdown",
   "metadata": {},
   "source": [
    "## 2.3 Examine Unique Values\n",
    "In the following cell, we are defining a function to inspect each column for unique values in our dataset. The inspect_columns function iterates over each column in the DataFrame and prints the unique values. This is a useful way to quickly see the range or categories of values that each feature can take. After defining this function, we use it to inspect each column in our dataset. This can help us identify any anomalies or inconsistencies in our data.\n",
    "\n"
   ]
  },
  {
   "cell_type": "code",
   "execution_count": null,
   "metadata": {},
   "outputs": [],
   "source": [
    "# Function to inspect each column for unique values\n",
    "def inspect_columns(df):\n",
    "    \"\"\"Prints unique values of each column in the DataFrame.\"\"\"\n",
    "    for col in df.columns:\n",
    "        print(f\"{col}: \\n{df[col].unique()}\\n\")\n",
    "\n",
    "# Inspect each column for unique values\n",
    "inspect_columns(df)"
   ]
  },
  {
   "cell_type": "markdown",
   "metadata": {},
   "source": [
    "## Observations:\n",
    "\n",
    "Data Types: The dataset contains a variety of data types. We have integer values (such as 'id', 'bedrooms', 'floors'), floating-point numbers (like 'price', 'bathrooms', 'sqft_living'), and string or object types (including 'date', 'waterfront', and possibly others). These different types will need to be handled appropriately during the data preprocessing stage before we can use them in a machine learning model.\n",
    "\n",
    "Missing Values: There appears to be missing data in the 'view', 'waterfront', and 'yr_renovated' columns, as suggested by their lower count. We may also have missing data in other features. It will be important to identify and handle these missing values appropriately, either by imputation or by excluding the affected records, depending on the nature and extent of the missingness.\n",
    "\n",
    "Adding New Columns: We could potentially enhance our dataset by creating new features based on the existing ones. These new features could capture important information in a different way or represent interactions between existing features, which could help improve the performance of our model.\n",
    "\n",
    "Excluding Some Columns: The 'id' column appears to be a unique identifier for each record. While it's unlikely to be a useful predictor for 'price', it's important to retain it for reference purposes. The 'zipcode', 'lat', 'long', 'sqft_living15', and 'sqft_lot15' columns provide valuable information about the location of each property, which is known to be a strong predictor of price. However, we should consider dropping the 'zipcode' column to prevent our model from becoming too specific to the training data, which could lead to overfitting and reduce its ability to generalize to new properties in unseen zip codes.\n",
    "\n",
    "Outliers: There are potential outliers in features like 'sqft_living', 'sqft_lot', 'bedrooms', and possibly 'price', as indicated by the large differences between the minimum and maximum values and the quartiles. These outliers could skew our model and should be handled appropriately, either by transformation, binning, or exclusion."
   ]
  },
  {
   "cell_type": "markdown",
   "metadata": {},
   "source": [
    "## 3.0 Data Preprocessing, Manipulation and Cleaning\n",
    "\n",
    "### 3.1 Data Types and Initial Encoding"
   ]
  },
  {
   "cell_type": "markdown",
   "metadata": {},
   "source": [
    "In the following cell, we are performing several data preprocessing steps to prepare our dataset for analysis. The 'date' column is converted into the correct datetime format for easier manipulation and analysis. Categorical variables such as 'view', 'condition', 'grade', and 'waterfront' are encoded into numerical values to facilitate their use in machine learning models. The 'sqft_basement' column is converted to integer type. "
   ]
  },
  {
   "cell_type": "code",
   "execution_count": null,
   "metadata": {},
   "outputs": [],
   "source": [
    "# Function to convert date into correct format\n",
    "def convert_date(df, date_column):\n",
    "    \"\"\"Converts a date column into the correct format.\"\"\"\n",
    "    df[date_column] = pd.to_datetime(df[date_column], format='%m/%d/%Y')\n",
    "\n",
    "# Convert date into correct format\n",
    "convert_date(df, 'date')\n",
    "\n",
    "# Function to carry out encoding\n",
    "def encode_columns(df):\n",
    "    \"\"\"Encodes categorical variables.\"\"\"\n",
    "    view_mapping = {'none': 0, 'good': 3, 'excellent': 4, 'average': 1, 'fair': 2}\n",
    "    condition_mapping = {'average': 2, 'very good': 4, 'good': 3, 'poor': 0, 'fair': 1}\n",
    "    grade_mapping = {'7 average': 7, '6 low average': 6, '8 good': 8, '11 excellent': 11, '9 better': 9, '5 fair': 5,\n",
    "                     '10 very good': 10, '12 luxury': 12, '4 low': 4, '3 poor': 3, '13 mansion': 13}\n",
    "    waterfront_mapping = {'no': 0, 'yes': 1}\n",
    "    df['view'] = df['view'].str.lower().str.strip().map(view_mapping)\n",
    "    df['condition'] = df['condition'].str.lower().str.strip().map(condition_mapping)\n",
    "    df['grade'] = df['grade'].str.lower().str.strip().map(grade_mapping)\n",
    "    df['waterfront'] = df['waterfront'].str.lower().str.strip().map(waterfront_mapping)\n",
    "\n",
    "\n",
    "\n",
    "# Convert date into correct format\n",
    "convert_date(df, 'date')\n",
    "\n",
    "# Encode categorical variables\n",
    "encode_columns(df)"
   ]
  },
  {
   "cell_type": "markdown",
   "metadata": {},
   "source": [
    "### 3.2 Missing Values"
   ]
  },
  {
   "cell_type": "markdown",
   "metadata": {},
   "source": [
    "In the next cell, we are handling missing values in our dataset. We perform the following operations:\n",
    "1. Drop rows where the 'waterfront' or 'view' columns have missing values.\n",
    "2. For the 'yr_renovated' column, replace missing or zero values with the corresponding 'yr_built' values."
   ]
  },
  {
   "cell_type": "code",
   "execution_count": null,
   "metadata": {},
   "outputs": [],
   "source": [
    "def handle_missing_values(df):\n",
    "    \"\"\"Drops rows with missing values in the 'waterfront', 'view', and 'sqft_basement' columns and replaces missing or 0 values in 'yr_renovated' with 'yr_built' values.\"\"\"\n",
    "    \n",
    "    # Drop rows with missing 'waterfront' values\n",
    "    df = df.dropna(subset=['waterfront'])\n",
    "\n",
    "    # Drop rows with missing 'view' values\n",
    "    df = df.dropna(subset=['view'])\n",
    "\n",
    "    # Drop rows with '?' values in 'sqft_basement'\n",
    "    df = df[df['sqft_basement'] != '?']\n",
    "\n",
    "    # Convert 'sqft_basement' to float before converting it to int\n",
    "    df['sqft_basement'] = df['sqft_basement'].astype(float).astype(int)\n",
    "\n",
    "    # Convert 'sqft_basement' to int\n",
    "    df['sqft_basement'] = df['sqft_basement'].astype(int)\n",
    "\n",
    "    # Replace missing or 0 values in 'yr_renovated' with 'yr_built' values\n",
    "    df.loc[df['yr_renovated'].isna() | (df['yr_renovated'] == 0), 'yr_renovated'] = df['yr_built']\n",
    "\n",
    "    return df\n",
    "# Handle missing values\n",
    "df = handle_missing_values(df)\n",
    "\n",
    "# Check for missing values in the dataframe \n",
    "df.isna().sum()"
   ]
  },
  {
   "cell_type": "markdown",
   "metadata": {},
   "source": [
    "# 3.3 Add New Columns\n",
    "\n",
    "In the following cell, we are enhancing our dataset by adding new columns that could provide more insights for our analysis.\n",
    "\n",
    "'age_in_2016' represents the age of the house in 2016.\n",
    "'renovation_age_in_2016' indicates the age of the renovation in 2016, if the house was renovated.\n",
    "'renovated' is a binary column indicating whether the house was renovated or not.\n",
    "'year' and 'month' are extracted from the 'date' column to provide temporal information."
   ]
  },
  {
   "cell_type": "code",
   "execution_count": null,
   "metadata": {},
   "outputs": [],
   "source": [
    "def add_new_columns(df):\n",
    "    \"\"\"Adds new columns 'year', 'month', 'house_age', 'renovation_age', and 'season'.\"\"\"\n",
    "\n",
    "    # Year and month from 'date' column\n",
    "    df['year_sold'] = pd.DatetimeIndex(df['date']).year\n",
    "    df['month_sold'] = pd.DatetimeIndex(df['date']).month\n",
    "\n",
    "    # Calculate age of the house when sold\n",
    "    df['house_age'] = df['year_sold'] - df['yr_built']\n",
    "\n",
    "    # Calculate years since renovation (if renovated)\n",
    "    df['renovation_age'] = df['year_sold'] - df['yr_renovated'].fillna(df['year_sold'])\n",
    "\n",
    "    # Whether renovated or not\n",
    "    df['renovated'] = (df['yr_renovated'] - df['yr_built']).apply(lambda x: 1 if x > 0 else 0)\n",
    "\n",
    "    # Add 'season' column\n",
    "    df['season'] = df['month_sold'].apply(lambda month: (month%12 + 3)//3) # 1: Winter, 2: Spring, 3: Summer, 4: Fall\n",
    "\n",
    "    return df\n",
    "\n",
    "# Add new columns\n",
    "df = add_new_columns(df)"
   ]
  },
  {
   "cell_type": "code",
   "execution_count": null,
   "metadata": {},
   "outputs": [],
   "source": [
    "df"
   ]
  },
  {
   "cell_type": "markdown",
   "metadata": {},
   "source": []
  },
  {
   "cell_type": "markdown",
   "metadata": {},
   "source": [
    "In the following cell, we are creating and encoding group columns for 'yr_built' and 'price'. \n",
    "\n",
    "1. 'yr_built_group' categorizes the year the house was built into time periods.\n",
    "2. 'price_group' categorizes the price of the house into different ranges.\n",
    "3. 'yr_built_group_encoded' and 'price_group_encoded' are the encoded versions of the above categories, which can be useful for machine learning models.\n",
    "\n",
    "#### Year Built Encoding\n",
    "\n",
    "| Original 'yr_built' Range | Encoded Value ('yr_built_group') |\n",
    "|----------------------------|-----------------------------------|\n",
    "| Any year before 1900       | 0                                 |\n",
    "| 1900 - 1920                | 1                                 |\n",
    "| 1921 - 1940                | 2                                 |\n",
    "| 1941 - 1960                | 3                                 |\n",
    "| 1961 - 1980                | 4                                 |\n",
    "| 1981 - 2000                | 5                                 |\n",
    "| 2001 - 2020                | 6                                 |\n",
    "\n",
    "#### Price Encoding\n",
    "\n",
    "| Original 'price' Range    | Encoded Value ('price_group') |\n",
    "|---------------------------|--------------------------------|\n",
    "| 0 - 100,000               | 0                              |\n",
    "| 100,001 - 200,000         | 1                              |\n",
    "| 200,001 - 300,000         | 2                              |\n",
    "| 300,001 - 400,000         | 3                              |\n",
    "| 400,001 - 500,000         | 4                              |\n",
    "| 500,001 - 600,000         | 5                              |\n",
    "| 600,001 - 700,000         | 6                              |\n",
    "| 700,001 - 800,000         | 7                              |\n",
    "| 800,001 - 900,000         | 8                              |\n",
    "| 900,001 - 1,000,000       | 9                              |\n",
    "| 1,000,000+                | 10                             |\n"
   ]
  },
  {
   "cell_type": "code",
   "execution_count": null,
   "metadata": {},
   "outputs": [],
   "source": [
    "def create_group_columns(df):\n",
    "    \"\"\"Creates and encodes 'yr_built' and 'price' group columns.\"\"\"\n",
    "    # Define 'yr_built' groups\n",
    "    min_year = df['yr_built'].min()\n",
    "    start_year = min_year if min_year < 1900 else 1899\n",
    "    bins_yr_built = [start_year, 1900, 1920, 1940, 1960, 1980, 2000, 2020]\n",
    "    labels_yr_built = ['<1900', '1900-1920', '1921-1940', '1941-1960', '1961-1980', '1981-2000', '2001-2020']\n",
    "    df['yr_built_group'] = pd.cut(df['yr_built'], bins=bins_yr_built, labels=labels_yr_built)\n",
    "\n",
    "    # Define 'price' groups\n",
    "    bins_price = [0, 100000, 200000, 300000, 400000, 500000, 600000, 700000, 800000, 900000, 1000000, df['price'].max()]\n",
    "    labels_price = ['0-100k', '100k-200k', '200k-300k', '300k-400k', '400k-500k', '500k-600k', '600k-700k', '700k-800k', '800k-900k', '900k-1M', '1M+']\n",
    "    df['price_group'] = pd.cut(df['price'], bins=bins_price, labels=labels_price)\n",
    "\n",
    "    # Encode 'yr_built_group' and 'price_group'\n",
    "    df['yr_built_group_encoded'] = df['yr_built_group'].astype('category').cat.codes\n",
    "    df['price_group_encoded'] = df['price_group'].astype('category').cat.codes\n",
    "\n",
    "# Create and encode group columns\n",
    "create_group_columns(df)"
   ]
  },
  {
   "cell_type": "markdown",
   "metadata": {},
   "source": [
    "### 3.4 Drop Unnecessary Rows "
   ]
  },
  {
   "cell_type": "markdown",
   "metadata": {},
   "source": [
    "In the following cell, we are dropping several columns from our dataset.\n",
    "\n",
    "1. The 'id' and 'zipcode' columns are being dropped as they are identifiers that do not contribute to the predictive power of our model.\n",
    "2. The 'yr_built_group', 'price_group', and 'date' columns are also dropped as we have already extracted the necessary information from these columns into other features."
   ]
  },
  {
   "cell_type": "code",
   "execution_count": null,
   "metadata": {},
   "outputs": [
    {
     "ename": "NameError",
     "evalue": "name 'df' is not defined",
     "output_type": "error",
     "traceback": [
      "\u001b[0;31m---------------------------------------------------------------------------\u001b[0m",
      "\u001b[0;31mNameError\u001b[0m                                 Traceback (most recent call last)",
      "Input \u001b[0;32mIn [2]\u001b[0m, in \u001b[0;36m<cell line: 7>\u001b[0;34m()\u001b[0m\n\u001b[1;32m      4\u001b[0m     \u001b[38;5;28;01mreturn\u001b[39;00m df\n\u001b[1;32m      6\u001b[0m \u001b[38;5;66;03m# Drop columns\u001b[39;00m\n\u001b[0;32m----> 7\u001b[0m df \u001b[38;5;241m=\u001b[39m drop_columns(\u001b[43mdf\u001b[49m)\n",
      "\u001b[0;31mNameError\u001b[0m: name 'df' is not defined"
     ]
    }
   ],
   "source": [
    "def drop_columns(df):\n",
    "    \"\"\"Drops 'id', 'zipcode','yr_built_group', 'price_group', and 'date' columns.\"\"\"\n",
    "    df = df.drop(['id', 'zipcode', 'date', 'yr_built_group', 'price_group'], axis=1)\n",
    "    return df\n",
    "\n",
    "# Drop columns\n",
    "df = drop_columns(df)"
   ]
  },
  {
   "attachments": {},
   "cell_type": "markdown",
   "metadata": {},
   "source": [
    "### 3.5 Check for Outliers "
   ]
  },
  {
   "attachments": {},
   "cell_type": "markdown",
   "metadata": {},
   "source": [
    "In the following cell, we are creating box plots for several columns in our dataset.\n",
    "\n",
    "1. Box plots are a great way to visualize the distribution of numerical data and identify outliers.\n",
    "2. The columns for which we are creating box plots include 'price', 'bedrooms', 'bathrooms', 'sqft_living', 'sqft_lot', 'floors', 'sqft_above', 'sqft_basement', 'sqft_living15', and 'sqft_lot15'."
   ]
  },
  {
   "cell_type": "code",
   "execution_count": null,
   "metadata": {},
   "outputs": [
    {
     "ename": "NameError",
     "evalue": "name 'df' is not defined",
     "output_type": "error",
     "traceback": [
      "\u001b[0;31m---------------------------------------------------------------------------\u001b[0m",
      "\u001b[0;31mNameError\u001b[0m                                 Traceback (most recent call last)",
      "Cell \u001b[0;32mIn[1], line 17\u001b[0m\n\u001b[1;32m     14\u001b[0m     plt\u001b[39m.\u001b[39mtight_layout()\n\u001b[1;32m     16\u001b[0m \u001b[39m# Create box plots\u001b[39;00m\n\u001b[0;32m---> 17\u001b[0m create_box_plots(df)\n",
      "\u001b[0;31mNameError\u001b[0m: name 'df' is not defined"
     ]
    }
   ],
   "source": [
    "def create_box_plots(df):\n",
    "    \"\"\"Creates box plots for specified columns.\"\"\"\n",
    "    columns = ['price', 'bedrooms', 'bathrooms', 'sqft_living', 'sqft_lot', 'floors', 'sqft_above', 'sqft_basement', 'sqft_living15', 'sqft_lot15']\n",
    "    fig, axs = plt.subplots(3, 4, figsize=(15, 10))\n",
    "\n",
    "    for i, column in enumerate(columns):\n",
    "        sns.boxplot(y=df[column], ax=axs[i//4, i%4])  # Change x to y\n",
    "        axs[i//4, i%4].set_title(column)\n",
    "\n",
    "    # Remove empty subplots\n",
    "    for i in range(len(columns), 12):\n",
    "        fig.delaxes(axs.flatten()[i])\n",
    "\n",
    "    plt.tight_layout()\n",
    "\n",
    "# Create box plots\n",
    "create_box_plots(df)"
   ]
  },
  {
   "attachments": {},
   "cell_type": "markdown",
   "metadata": {},
   "source": [
    "Observations\n",
    "\n",
    "The outliers in this case represent legitimate data points, even if they fall outside the IQR. Removing them could introduce bias and affect the generalizability of the model. They also indicate rare but important events or conditions, for instance, the number of bedrooms being 33 which is an outlier, but is highly relevant for understanding of how large houses affect pricing."
   ]
  },
  {
   "attachments": {},
   "cell_type": "markdown",
   "metadata": {},
   "source": [
    "## 4. Exploratory Data Analysis \n",
    "### 4.1 Check for Counts for Rows with Categorical Features"
   ]
  },
  {
   "attachments": {},
   "cell_type": "markdown",
   "metadata": {},
   "source": [
    "In the following cell, we are creating bar charts for several categorical features in our dataset. Bar charts are useful for visualizing the distribution of categorical data. The features we are visualizing include 'waterfront', 'view', 'condition', 'grade', 'renovated', 'yr_built_group_encoded', and 'price_group_encoded'."
   ]
  },
  {
   "cell_type": "code",
   "execution_count": 4,
   "metadata": {},
   "outputs": [
    {
     "ename": "NameError",
     "evalue": "name 'df' is not defined",
     "output_type": "error",
     "traceback": [
      "\u001b[0;31m---------------------------------------------------------------------------\u001b[0m",
      "\u001b[0;31mNameError\u001b[0m                                 Traceback (most recent call last)",
      "Cell \u001b[0;32mIn[4], line 18\u001b[0m\n\u001b[1;32m     16\u001b[0m \u001b[39m# Create a bar chart for each feature\u001b[39;00m\n\u001b[1;32m     17\u001b[0m \u001b[39mfor\u001b[39;00m i, feature \u001b[39min\u001b[39;00m \u001b[39menumerate\u001b[39m(features):\n\u001b[0;32m---> 18\u001b[0m     sns\u001b[39m.\u001b[39mcountplot(x\u001b[39m=\u001b[39mfeature, data\u001b[39m=\u001b[39mdf, ax\u001b[39m=\u001b[39maxs[i])\n\u001b[1;32m     19\u001b[0m     axs[i]\u001b[39m.\u001b[39mset_title(feature)\n\u001b[1;32m     20\u001b[0m     axs[i]\u001b[39m.\u001b[39mtick_params(axis\u001b[39m=\u001b[39m\u001b[39m'\u001b[39m\u001b[39mx\u001b[39m\u001b[39m'\u001b[39m, rotation\u001b[39m=\u001b[39m\u001b[39m90\u001b[39m)\n",
      "\u001b[0;31mNameError\u001b[0m: name 'df' is not defined"
     ]
    },
    {
     "data": {
      "image/png": "[encoded data removed]",
      "text/plain": [
       "<Figure size 2000x1000 with 7 Axes>"
      ]
     },
     "metadata": {},
     "output_type": "display_data"
    }
   ],
   "source": [
    "# List of categorical features\n",
    "features = ['waterfront', 'view', 'condition', 'grade', 'renovated', 'yr_built_group_encoded', 'price_group_encoded']\n",
    "\n",
    "# Number of rows and columns for the subplot grid\n",
    "n_rows = len(features) // 4 + (len(features) % 4 > 0)\n",
    "n_cols = 4\n",
    "\n",
    "# Create a figure and axes for the subplot grid\n",
    "fig, axs = plt.subplots(n_rows, n_cols, figsize=(20, n_rows * 5))\n",
    "\n",
    "# Flatten the axes array and remove unused axes\n",
    "axs = axs.flatten()\n",
    "for ax in axs[len(features):]:\n",
    "    fig.delaxes(ax)\n",
    "\n",
    "# Create a bar chart for each feature\n",
    "for i, feature in enumerate(features):\n",
    "    sns.countplot(x=feature, data=df, ax=axs[i])\n",
    "    axs[i].set_title(feature)\n",
    "    axs[i].tick_params(axis='x', rotation=90)\n",
    "\n",
    "# Adjust the layout\n",
    "plt.tight_layout()\n",
    "plt.show()"
   ]
  },
  {
   "attachments": {},
   "cell_type": "markdown",
   "metadata": {},
   "source": [
    "Observations \n",
    "* sqft_living: The distribution appears right-skewed, with more houses on the lower end of the square footage range and a longer tail towards the higher end. There could be a few exceptional houses with very high square footage.\n",
    "* sqft_lot: Similar to sqft_living, this distribution is also right-skewed, with more houses having smaller lots and a tail towards larger lots.\n",
    "* price: This histogram is also right-skewed, with more houses on the lower end of the price range and a tail towards more expensive houses.\n",
    "* bedrooms: Most houses have 3 bedrooms, followed by 4 bedrooms. There are fewer houses with 1, 2, or 5 or more bedrooms.\n",
    "* bathrooms: The majority of houses have 2.25 bathrooms, followed by 2.0 and 3.0 bathrooms. There are a smaller number of houses with less than 2 or more than 3 bathrooms.\n",
    "* floors: Most houses have 1.0 or 2.0 floors. There are a few houses with 1.5 or more than 2 floors.\n",
    "* waterfront: The data seems balanced, with a similar number of houses having waterfront (possibly meaning a view of the waterfront) and those that do not.\n",
    "* grade: The most common house grades are '7' and '8', with a similar number of houses in each category. There are a few houses with lower or higher grades."
   ]
  },
  {
   "attachments": {},
   "cell_type": "markdown",
   "metadata": {},
   "source": [
    "### 4.2 Check for Counts for Rows with Discrete Numerical Features"
   ]
  },
  {
   "attachments": {},
   "cell_type": "markdown",
   "metadata": {},
   "source": [
    "In the following cell, we are creating bar charts for rows with discrete numerical features in our dataset. The features we are visualizing include 'bedrooms', 'bathrooms', 'floors', 'year', and 'month'. These bar charts will help us understand the distribution of these features in our dataset, which is crucial for any data analysis task."
   ]
  },
  {
   "cell_type": "code",
   "execution_count": null,
   "metadata": {},
   "outputs": [],
   "source": [
    "# List of features\n",
    "features = ['bedrooms', 'bathrooms', 'floors', 'year_sold', 'month_sold', 'season']\n",
    "\n",
    "# Create a figure with 2 rows where the first row has 3 plots and the second row has 3 plots\n",
    "fig, axs = plt.subplots(2, 3, figsize=(20, 15))\n",
    "\n",
    "# Flatten the axes array for easy iteration\n",
    "axs = axs.flatten()\n",
    "\n",
    "# For each feature, create a bar chart\n",
    "for i, feature in enumerate(features):\n",
    "    # Order the x-axis in ascending order\n",
    "    order = sorted(df[feature].unique())\n",
    "    sns.countplot(data=df, x=feature, order=order, ax=axs[i])\n",
    "    axs[i].set_title(f'Distribution of {feature}')\n",
    "    # Rotate x-axis labels for better readability\n",
    "    for item in axs[i].get_xticklabels():\n",
    "        item.set_rotation(90)\n",
    "    # If the feature is 'bathrooms', only show every other x-axis label\n",
    "    if feature == 'bathrooms':\n",
    "        for ind, label in enumerate(axs[i].get_xticklabels()):\n",
    "            if ind % 2 == 0:  # only keep even index labels\n",
    "                label.set_visible(True)\n",
    "            else:\n",
    "                label.set_visible(False)\n",
    "\n",
    "# Adjust the layout\n",
    "plt.tight_layout()\n",
    "plt.show()"
   ]
  },
  {
   "attachments": {},
   "cell_type": "markdown",
   "metadata": {},
   "source": [
    "Observations\n",
    "\n",
    "* Distribution of Bedrooms: The distribution of bedrooms appears to be relatively normal, with a peak around 3 bedrooms and a gradual decrease in frequency for houses with more or less bedrooms.\n",
    "* Distribution of Bathrooms: Similar to the distribution of bedrooms, the distribution of bathrooms also appears to be normally distributed, with a peak around 2 bathrooms and a decrease in frequency for houses with more or less bathrooms.\n",
    "* Distribution of Floors: The distribution of floors appears to be skewed towards houses with fewer floors. There is a clear peak at 1 floor, with a tail towards houses with 2 or more floors.\n",
    "* Distribution of Year: The distribution of the year appears to be skewed towards more recent years. There is a peak around 2014 or 2015, and a decrease in frequency for houses built in earlier years.\n",
    "* Distribution of Month: The lowest number of sales appears to have occurred in the first month, while the highest number of sales occurred in the fifth month."
   ]
  },
  {
   "attachments": {},
   "cell_type": "markdown",
   "metadata": {},
   "source": [
    "### 4.3 Check for Counts for Rows with Continuous Numerical Features"
   ]
  },
  {
   "attachments": {},
   "cell_type": "markdown",
   "metadata": {},
   "source": [
    "In the following cell, we are creating histograms for rows with continuous numerical features in our dataset. The features we are visualizing include 'price', 'sqft_living', 'sqft_lot', 'long', 'sqft_living15', 'sqft_lot15', 'age_in_2016', and 'renovation_age_in_2016'. These histograms will help us understand the distribution of these features in our dataset, which is crucial for any data analysis task."
   ]
  },
  {
   "cell_type": "code",
   "execution_count": null,
   "metadata": {},
   "outputs": [],
   "source": [
    "import seaborn as sns\n",
    "import matplotlib.pyplot as plt\n",
    "import warnings\n",
    "warnings.filterwarnings('ignore')\n",
    "\n",
    "# List of features\n",
    "features = ['price', 'sqft_living', 'sqft_lot', 'long', 'sqft_living15', 'sqft_lot15', 'house_age', 'renovation_age']\n",
    "\n",
    "# Create a figure with 2 rows and 4 columns\n",
    "fig, axs = plt.subplots(2, 4, figsize=(20, 10))\n",
    "\n",
    "# Flatten the axes array for easy iteration\n",
    "axs = axs.flatten()\n",
    "\n",
    "# For each feature, create a histogram\n",
    "for i, feature in enumerate(features):\n",
    "    sns.histplot(data=df, x=feature, bins=10, ax=axs[i])\n",
    "    axs[i].set_title(f'Distribution of {feature}')\n",
    "    # Rotate x-axis labels for better readability\n",
    "    for item in axs[i].get_xticklabels():\n",
    "        item.set_rotation(45)\n",
    "\n",
    "# Adjust the layout\n",
    "plt.tight_layout()\n",
    "plt.show()"
   ]
  },
  {
   "attachments": {},
   "cell_type": "markdown",
   "metadata": {},
   "source": [
    "Observations\n",
    "* Distribution of Price: The distribution of the price appears to be right-skewed, with a longer tail towards more expensive houses. This indicates that there are a higher number of houses on the lower end of the price range and a smaller number of houses with very high prices.\n",
    "* Distribution of Square Footage of Living Area (sqft_living): The distribution of square footage of living area also appears to be right-skewed, similar to the price distribution. There are more houses with smaller living areas and a smaller number of houses with very large living areas.\n",
    "* Distribution of Square Footage of Lot (sqft_lot): The distribution of the lot size seems right-skewed as well. There are more houses with smaller lots and a smaller number of houses with very large lots.\n",
    "* Distribution of Age in 2016 (age_in_2016): The distribution of the age of the houses in 2016 has two peaks, one for older houses and another for newer houses.\n",
    "* Distribution of Renovation Age in 2016 (renovation_age_in_2016): The distribution of renovation age in 2016 is right-skewed, with many houses having no renovations (renovation_age = 0) and a tail towards houses renovated more recently."
   ]
  },
  {
   "cell_type": "markdown",
   "metadata": {},
   "source": [
    "## 4.4 Check Relationship Between Dependent and Independent Variables\n",
    "\n",
    "In the following cell, we are creating scatter plots for several features in our dataset against the 'price' feature. The features we are visualizing include 'bedrooms', 'bathrooms', 'sqft_living', 'sqft_lot', 'floors', 'waterfront', 'view', 'condition', 'grade', 'sqft_above', 'sqft_basement', 'yr_built', 'yr_renovated', 'lat', 'long', 'sqft_living15', 'sqft_lot15', 'age_in_2016', 'renovation_age_in_2016', 'renovated', 'year', 'month', and 'yr_built_group_encoded'. Scatter plots are useful for visualizing the relationship between two numerical variables. In this case, we are interested in how these features relate to the 'price' feature, which could be our target variable in a machine learning model.\n",
    "\n"
   ]
  },
  {
   "cell_type": "code",
   "execution_count": null,
   "metadata": {},
   "outputs": [],
   "source": [
    "import seaborn as sns\n",
    "import matplotlib.pyplot as plt\n",
    "\n",
    "def plot_scatter(df):\n",
    "    # List of features\n",
    "    features = ['bedrooms', 'bathrooms', 'sqft_living', 'sqft_lot', 'floors', 'waterfront', 'view', 'condition', 'grade', \n",
    "                'sqft_above', 'sqft_basement', 'yr_built', 'yr_renovated', 'lat', 'long', 'sqft_living15', 'sqft_lot15', \n",
    "                'house_age', 'renovation_age', 'renovated', 'year_sold', 'month_sold', 'yr_built_group_encoded', 'season']\n",
    "\n",
    "    # Calculate the number of rows needed for the plots\n",
    "    num_rows = len(features) // 5\n",
    "    if len(features) % 5:\n",
    "        num_rows += 1\n",
    "\n",
    "    # Create a figure with the calculated number of rows and 5 columns\n",
    "    fig, axs = plt.subplots(num_rows, 5, figsize=(20, 4 * num_rows))\n",
    "\n",
    "    # Flatten the axes array for easy iteration\n",
    "    axs = axs.flatten()\n",
    "\n",
    "    # For each feature, create a scatter plot against 'price'\n",
    "    for i, feature in enumerate(features):\n",
    "        sns.scatterplot(data=df, x=feature, y='price', ax=axs[i])\n",
    "        axs[i].set_title(f'price vs {feature}')\n",
    "\n",
    "    # Remove any extra subplots\n",
    "    for i in range(len(features), len(axs)):\n",
    "        fig.delaxes(axs[i])\n",
    "\n",
    "    # Adjust the layout\n",
    "    plt.tight_layout()\n",
    "    plt.show()\n",
    "\n",
    "# Call the function\n",
    "plot_scatter(df)"
   ]
  },
  {
   "cell_type": "markdown",
   "metadata": {},
   "source": [
    "## Observations\n",
    "\n",
    "Price vs sqft_living: There appears to be a positive correlation between square footage and price. This means that houses with larger square footage tend to be more expensive. There is also a fair amount of scatter in the data, indicating that other factors besides square footage also influence price.\n",
    "\n",
    "Price vs bedrooms: There appears to be a positive correlation between the number of bedrooms and price. This means that houses with more bedrooms tend to be more expensive. There is also a scatter in the data, indicating that other factors besides the number of bedrooms also influence price.\n",
    "\n",
    "Price vs bathrooms: There appears to be a positive correlation between the number of bathrooms and price. This means that houses with more bathrooms tend to be more expensive. There is also a scatter in the data, indicating that other factors besides the number of bathrooms also influence price.\n",
    "\n",
    "Price vs sqft_lot: There appears to be a positive correlation between lot size and price. This means that houses on larger lots tend to be more expensive. There is also a scatter in the data, indicating that other factors besides lot size also influence price.\n",
    "\n",
    "Price vs floors: There appears to be a positive correlation between the number of floors and price. This means that houses with more floors tend to be more expensive. There is also a scatter in the data, indicating that other factors besides the number of floors also influence price.\n",
    "\n",
    "Price vs waterfront: It's difficult to say definitively from this scatterplot whether there is a correlation between waterfront location and price. There are houses with waterfront access across the entire price range. More data points might be required to reveal a clearer relationship.\n",
    "\n",
    "Price vs condition: It's difficult to say definitively from this scatterplot what the relationship is between the condition of the house and the price. There are houses in all condition ratings across the entire price range.\n",
    "\n",
    "Price vs grade: It's difficult to say definitively from this scatterplot what the relationship is between the grade of the house and the price. There are houses in all grade ratings across the entire price range.\n",
    "\n",
    "Price vs sqft above: It's difficult to say definitively from this scatterplot what the relationship is between the square footage above ground and the price. There are houses across the entire price range with varying square footage above ground.\n",
    "\n",
    "Price vs sqft basement: There appears to be a positive correlation between the square footage of the basement and price. This means that houses with larger basements tend to be more expensive. There is also a scatter in the data, indicating that other factors besides basement square footage also influence price.\n",
    "\n",
    "Price vs yr built: There doesn't appear to be a clear correlation between the year the house was built and the price. Houses from all ages are spread across the entire price range.\n",
    "\n",
    "Price vs yr renovated: There doesn't appear to be a clear correlation between the year the house was renovated and the price. Houses from all renovation years are spread across the entire price range.\n",
    "\n",
    "Price vs lat: There doesn't appear to be a clear pattern between latitude and price. Houses across the latitude range are spread throughout the price range.\n",
    "\n",
    "Price vs long: There doesn't appear to be a clear pattern between longitude and price. Houses across the longitude range are spread throughout the price range.\n",
    "\n",
    "Price vs sqft living15: There appears to be a positive correlation between square footage and price.\n",
    "\n",
    "Price vs sqft lot15: There appears to be a positive correlation between lot size and price.\n",
    "\n",
    "Price vs age_in_2016: There doesn't appear to be a clear correlation between the age of the house in 2016 and the price. Houses from all ages are spread across the entire price range.\n",
    "\n",
    "Price vs renovation_age_in_2016: There doesn't appear to be a clear correlation between the renovation age of the house in 2016 and the price. Houses from all renovation ages are spread across the entire price range.\n",
    "\n",
    "Price vs renovated: It's difficult to say definitively from this scatterplot what the relationship is between whether or not a house was renovated and the price. There are houses in both categories across the entire price range.\n",
    "\n",
    "Price vs year: There doesn't appear to be a clear correlation between the year and the price. Houses from all years are spread across the entire price range.\n",
    "\n",
    "Price vs month: It's difficult to say definitively from this scatterplot what the relationship is between the month and the price. There are houses from all months across the entire price range.\n",
    "\n",
    "Real Estate Price Visualization\n",
    "In this section, we will create a scatter plot to visualize real estate prices by location. The color of each point on the plot will represent the price of the property at that location. We will use the plot_price_map function, which takes a DataFrame containing real estate data as input. The DataFrame should have 'price', 'lat', and 'long' columns.\n"
   ]
  },
  {
   "cell_type": "code",
   "execution_count": null,
   "metadata": {},
   "outputs": [],
   "source": [
    "\n",
    "import matplotlib.pyplot as plt\n",
    "import matplotlib.ticker as ticker\n",
    "import numpy as np\n",
    "\n",
    "def plot_price_map(df):\n",
    "    \"\"\"\n",
    "    This function creates a scatter plot of real estate prices by location.\n",
    "    \n",
    "    Parameters:\n",
    "    df (DataFrame): The DataFrame containing the real estate data. It should have 'price', 'lat', and 'long' columns.\n",
    "    \"\"\"\n",
    "    \n",
    "    # Create a new figure with a large size to accommodate the detailed plot\n",
    "    plt.figure(figsize=(50, 35))\n",
    "\n",
    "    # Set a maximum price for filtering. We only want to include houses sold for under $2,000,000 in the plot\n",
    "    max_price = 2000000\n",
    "\n",
    "    # Filter the data to only include houses sold for under $2,000,000\n",
    "    filtered_data = df[df[\"price\"] < max_price]\n",
    "\n",
    "    # Calculate the minimum, maximum, and range of the housing prices in the filtered data\n",
    "    min_price = min(filtered_data[\"price\"])\n",
    "    max_price = max(filtered_data[\"price\"])\n",
    "    range_price = max_price - min_price\n",
    "\n",
    "    # Create a scatterplot of the data. The x and y coordinates represent the longitude and latitude of each house,\n",
    "    # and the color represents the price. We use the 'RdYlGn_r' colormap to represent prices from low (red) to high (green).\n",
    "    plt.scatter(filtered_data[\"long\"], filtered_data[\"lat\"], c=filtered_data[\"price\"], cmap='RdYlGn_r')\n",
    "\n",
    "    # Add a colorbar to the plot to show the mapping from colors to prices\n",
    "    cbar = plt.colorbar()\n",
    "    cbar.set_label(\"Price\", rotation = 90, size = 50)\n",
    "\n",
    "    # Remove the exponent from the colorbar to make the prices easier to read\n",
    "    cbar.ax.yaxis.set_major_formatter(ticker.ScalarFormatter(useMathText=False))\n",
    "\n",
    "    # Set the tick locations and tick labels manually on the colorbar to represent the minimum, 25th percentile,\n",
    "    # median, 75th percentile, and maximum prices\n",
    "    cbar.set_ticks([min_price, min_price + range_price * 0.25, min_price + range_price * 0.5, min_price + range_price * 0.75, max_price])\n",
    "    cbar.set_ticklabels(['${:,.0f}'.format(min_price), '${:,.0f}'.format(min_price + range_price * 0.25), '${:,.0f}'.format(min_price + range_price * 0.5), '${:,.0f}'.format(min_price + range_price * 0.75), '${:,.0f}'.format(max_price)])\n",
    "\n",
    "    # Set the x axis tick locations to represent the range of longitudes in the data\n",
    "    plt.xticks(np.arange(-122.5, -121.5 + 0.1, 0.1), rotation = 50, size = 30)\n",
    "\n",
    "    # Set the y axis tick locations to represent the range of latitudes in the data\n",
    "    plt.yticks(np.arange(47.2, 47.8 + 0.1, 0.1), rotation = 30, size = 30)\n",
    "\n",
    "    # Add a title to the plot\n",
    "    plt.title('Real Estate Prices by Location', size = 75)\n",
    "\n",
    "    # Add x and y axis labels\n",
    "    plt.xlabel('Longitude', size = 50)\n",
    "    plt.ylabel('Latitude', size = 50 )\n",
    "\n",
    "    # Show the plot\n",
    "    plt.show()\n",
    "\n",
    "plot_price_map(df) "
   ]
  },
  {
   "cell_type": "markdown",
   "metadata": {},
   "source": [
    "## 4.5 Correlation matrix\n",
    "\n",
    "In the following cell, we are defining a function to plot a correlation matrix of our dataset. The plot_corr_matrix function calculates the correlation matrix of the DataFrame, creates a figure, generates a heatmap of the correlation matrix, and then displays the plot. This is a useful way to quickly see the relationships between all pairs of features. The heatmap uses color intensity to represent the strength and direction of the correlation, making it easy to identify highly correlated features. After defining this function, we use it to plot the correlation matrix of our dataset.\n"
   ]
  },
  {
   "cell_type": "code",
   "execution_count": null,
   "metadata": {},
   "outputs": [],
   "source": [
    "\n",
    "def plot_corr_matrix(df):\n",
    "    # Calculate the correlation matrix\n",
    "    corr = df.corr()\n",
    "\n",
    "    # Create a figure\n",
    "    plt.figure(figsize=(20, 20))\n",
    "\n",
    "    # Generate a heatmap\n",
    "    sns.heatmap(corr, annot=True, fmt=\".2f\", cmap='coolwarm', cbar=True, square=True)\n",
    "\n",
    "\n",
    "    # Show the plot\n",
    "    plt.show()\n",
    "\n",
    "# Call the function\n",
    "plot_corr_matrix(df)\n"
   ]
  },
  {
   "cell_type": "code",
   "execution_count": null,
   "metadata": {},
   "outputs": [],
   "source": [
    "# Calculate the correlation matrix\n",
    "corr_matrix = df.corr().abs()\n",
    "\n",
    "# Select upper triangle of correlation matrix\n",
    "upper = corr_matrix.where(np.triu(np.ones(corr_matrix.shape), k=1).astype(bool))\n",
    "\n",
    "# Find index of feature columns with correlation greater than 0.8\n",
    "to_drop = [column for column in upper.columns if any(upper[column] > 0.8)]\n",
    "\n",
    "print(f'Columns to drop: {to_drop}')\n"
   ]
  },
  {
   "cell_type": "code",
   "execution_count": null,
   "metadata": {},
   "outputs": [],
   "source": [
    "# List of columns to drop\n",
    "columns_to_drop = ['sqft_above', 'yr_renovated', 'house_age', 'renovation_age', 'yr_built_group_encoded', 'sqft_living15', 'sqft_lot15']\n",
    "\n",
    "# Drop the columns\n",
    "df = df.drop(columns_to_drop, axis=1)\n",
    "\n"
   ]
  },
  {
   "cell_type": "markdown",
   "metadata": {},
   "source": [
    "## Observations\n",
    "\n",
    "The correlation coefficients range from -1 to 1, where values close to 1 indicate a strong positive correlation, values close to -1 indicate a strong negative correlation, and values around 0 suggest little to no correlation. The analysis of the correlation matrix reveals that the pair of variables with the highest positive correlation are sqft_living (the total square feet of living space) and sqft_above (the square footage of the living area above the ground level). These two variables exhibit a correlation coefficient close to 0.7, indicating a substantial positive relationship. This implies that houses with larger total living space tend to have more square footage in the above-ground living area. Additionally, the grade variable, which represents the overall quality grade of the house, also shows a strong positive correlation with both sqft_living and sqft_above. This suggests that higher-graded houses typically have larger overall living spaces and more square footage in the above-ground living areas.\n",
    "\n",
    "The insights gained from the correlation matrix can have several implications:\n",
    "\n",
    "​The strong positive correlation between sqft_living, sqft_above, and grade suggests that larger, higher-quality homes tend to have more above-ground living space, which is likely to be reflected in their higher prices.\n",
    "\n",
    "The positive correlations between price and variables like sqft_living, grade, and sqft_above suggest that these housing features are important factors in determining property values.\n",
    "\n",
    "The relationships between variables such as yr_built, yr_renovated, and other housing characteristics may be more complex and less direct, requiring further analysis to understand their influence on property prices."
   ]
  },
  {
   "cell_type": "markdown",
   "metadata": {},
   "source": []
  }
 ],
 "metadata": {
  "kernelspec": {
   "display_name": "Python 3 (ipykernel)",
   "language": "python",
   "name": "python3"
  },
  "language_info": {
   "codemirror_mode": {
    "name": "ipython",
    "version": 3
   },
   "file_extension": ".py",
   "mimetype": "text/x-python",
   "name": "python",
   "nbconvert_exporter": "python",
   "pygments_lexer": "ipython3",
   "version": "3.11.5"
  }
 },
 "nbformat": 4,
 "nbformat_minor": 2
}
