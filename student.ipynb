{
 "cells": [
  {
   "cell_type": "markdown",
   "metadata": {},
   "source": [
    "## Final Project Submission\n",
    "\n",
    "Please fill out:\n",
    "* Student name: \n",
    "* Student pace: self paced / part time / full time\n",
    "* Scheduled project review date/time: \n",
    "* Instructor name: \n",
    "* Blog post URL:\n"
   ]
  },
  {
   "cell_type": "markdown",
   "metadata": {},
   "source": [
    "# 1.0 Introduction\n",
    "## 1.1 Background\n",
    "\n",
    "The real estate industry thrives on a foundation of accurate property valuations and market analysis. In dynamic markets characterized by fierce competition, real estate agents require reliable tools to determine optimal listing prices, attract buyers quickly, and maximize profits for their sellers. The real estate market is highly competitive. Pricing homes accurately is essential for attracting buyers, maximizing profits for sellers, and ensuring timely sales Traditionally, agents may rely heavily on recent comparable sales and their own experience, which can introduce subjectivity and potential for pricing errors. \n",
    "\n",
    "Additionally, limited availability of housing inventory, particularly in desirable neighborhoods or regions with high demand, can lead to increased buyer competition and inflated prices. This shortage may also result in longer wait times for buyers to find suitable properties. Meeting the diverse needs and preferences of clients, including first-time homebuyers, investors, and downsizing retirees, requires housing agents to have a deep understanding of market trends, property features, and financing options. \n",
    "\n",
    "Addressing these challenges requires collaboration and innovation within the real estate industry and proactive measures to promote affordability, fairness, and sustainability in housing markets. This project aims to provide agents with a data-driven tool to refine pricing strategies, highlight a property's most valuable assets, and offer informed recommendations for potential value-boosting renovations. \n",
    "\n",
    "A data-driven approach to property valuation can offer agents a significant edge, enabling them to make informed decisions based on market trends and property characteristics, ultimately leading to successful transactions for all parties involved."
   ]
  },
  {
   "cell_type": "markdown",
   "metadata": {},
   "source": [
    "### 1.2 Problem Statement\n",
    "The real estate market in the King County region faces challenges in accurately pricing homes, understanding the factors driving property values, and providing targeted renovation advice to homeowners. Traditional valuation methods may lack precision and fail to account for the diverse range of features influencing home prices. Consequently, real estate agents may struggle to offer accurate pricing estimates and relevant advice to clients, leading to suboptimal outcomes for both buyers and sellers.\n"
   ]
  },
  {
   "attachments": {},
   "cell_type": "markdown",
   "metadata": {},
   "source": [
    "\n",
    "### 1.3 Aim of Project\n",
    "This project aims to develop data-driven models to support real estate agents in the King County region with accurate property pricing and targeted insights for client consultations. Specifically, the project will:\n",
    "\n",
    "i. \n",
    " Create a model for house price prediction: Provide price predictions for potential listings based on key property characteristics.\n",
    "\n",
    "ii.\n",
    " Create a model for price range prediction: Establish realistic price ranges for properties based on their features, enhancing agents' negotiation strategies.\n"
   ]
  },
  {
   "cell_type": "markdown",
   "metadata": {},
   "source": [
    "### 1.4 Main Objective\n",
    "Empower real estate agents with data-backed  pricing tools to optimize listing strategies, improve  client communication, and maximize seller outcomes.\n",
    "\n",
    "### 1.5 Other Objectives\n",
    "i)\tDevelop a multiple linear regression model using the King County Housing dataset to predict home prices based on various features accurately.\n",
    "ii)\tProvide actionable insights to real estate agents to assist them in pricing homes accurately, understanding factors influencing property values, and advising homeowners on targeted renovations.\n",
    "iii)\tUnderstanding the features that have the most significant impact on home prices for effective marketing and negotiation strategies.\n",
    "\n",
    "### 1.6. Business and Data Understanding\n",
    "#### 1.6.1 Stakeholder\n",
    "Real estate agents in King County face a competitive market where accurate property valuations are essential for success.  This project aims to address these challenges by developing data-driven models that will equip agents with the following:\n",
    "\n",
    "#### 1.6.2 Business Needs\n",
    "* Competitive Pricing: The price prediction model will provide objective estimates of a property's fair market value,  helping agents establish initial listing prices that are competitive yet realistic.  This will attract qualified buyers quickly and minimize the time a property sits on the market.  Additionally, the model's insights can inform negotiation strategies, empowering agents to make data-supported decisions throughout the selling process.\n",
    "\n",
    "* Understanding Value Drivers: By analyzing the impact of various housing features on predicted prices, the models will shed light on which characteristics are most desired by buyers in the King County market.  This will allow agents to identify a property's strengths and potential areas for improvement.  For instance, the model might reveal that a property with a large backyard is likely to command a higher price than one without.  Armed with this knowledge, agents can effectively highlight a property's most valuable assets in marketing materials and during client consultations.\n",
    "\n",
    "* Client Communication: Data-driven insights can significantly enhance communication and build trust with clients.  Agents can leverage the model's predictions and analysis of value drivers to provide sellers with clear explanations of the pricing strategy and recommendations for optimizations.  This fosters transparency and empowers sellers to make informed decisions throughout the listing process.\n",
    "\n",
    "To address these challenges, this project aims to leverage regression analysis on the King County Housing dataset. By developing a robust regression model, we seek to identify the key drivers of property value and provide real estate agents with actionable insights for pricing homes accurately and advising homeowners on strategic renovations. Our objective is to empower real estate agents with data-driven tools and knowledge to enhance their decision-making process and ultimately improve customer satisfaction and trust in the real estate market.\n",
    "\n",
    "### 1.7 Methodology\n",
    "\n",
    "#### 1.7.1 Dataset\n",
    "King County House Sales dataset (kc_house_data.csv).\n",
    "\n",
    "#### 1.7.2 Statistical Approach\n",
    "Multiple linear regression is a well-established statistical technique for modeling continuous relationships between a dependent variable (in our case, house price) and multiple independent variables (such as square footage, number of bedrooms, and waterfront location). By analyzing the historical sales data in the King County dataset, the model will learn the weights (coefficients) of each feature's influence on price. This allows the model to generate a prediction for the price of a new house based on its specific characteristics. \n",
    "\n",
    "#### 1.8 Features (Columns) Used and Their Relevance:\n",
    "\n",
    "* id: Unique identifier for each house sale record. May not be directly used for modeling, but essential for data cleaning and reference.\n",
    "* date: Date of the house sale. Useful for time-based analysis, filtering by timeframe, or creating features related to seasonality.\n",
    "* price: The target variable – the outcome we aim to predict.\n",
    "* bedrooms: Number of bedrooms, essential for accommodating buyer needs.\n",
    "* bathrooms: Number of bathrooms, impacting convenience and value.\n",
    "* sqft_living: Square footage of interior living space, a major price driver.\n",
    "* sqft_lot: Square footage of the land parcel, affecting lot size and potential use.\n",
    "* floors: Number of floors in the house, a possible indicator of layout and space.\n",
    "* waterfront: Binary variable indicating whether the property has waterfront access, a highly desirable feature in the region.\n",
    "* view: Rated view quality of the property, a potential value-adding aspect.\n",
    "* condition: Overall condition of the house, likely affecting price and renovation needs.\n",
    "* grade: Overall grade assigned to the housing unit based on King County grading system. Understanding the details of this grading system is crucial.\n",
    "* sqft_above: Square footage of the house excluding the basement.\n",
    "* sqft_basement: Square footage of the basement, if present.\n",
    "* yr_built: Year the house was originally built, indicating age.\n",
    "* yr_renovated: Year of the last renovation, if applicable. Influences condition and potential for further updates.\n",
    "* zipcode: Geographic location, potentially related to market dynamics and neighborhood desirability.\n",
    "* lat: Latitude coordinate, useful for mapping or finer-grained location analysis.\n",
    "* long: Longitude coordinate, used in conjunction with latitude.\n",
    "* sqft_living15: Living space of homes in the neighborhood (15 nearest neighbors). Can provide insight into local market comparisons.\n",
    "* sqft_lot15: Lot size of homes in the neighborhood (15 nearest neighbors).\n",
    "\n"
   ]
  },
  {
   "cell_type": "markdown",
   "metadata": {},
   "source": [
    "## 2.0 Data Prepartion\n",
    "### 2.1 Importing Libraries"
   ]
  },
  {
   "cell_type": "markdown",
   "metadata": {},
   "source": [
    "In the following cell, we are importing several libraries that we will use throughout this notebook. Libraries like `numpy` and `pandas` are fundamental for data manipulation and analysis. `matplotlib` and `seaborn` are used for data visualization.`sklearn` provides tools for data mining and data analysis, including model selection and linear regression, and `missingno` offers a convenient way to visualize missing data."
   ]
  },
  {
   "cell_type": "code",
   "execution_count": null,
   "metadata": {},
   "outputs": [],
   "source": [
    "# Importing libraries\n",
    "import numpy as np\n",
    "import pandas as pd\n",
    "import matplotlib.pyplot as plt\n",
    "import seaborn as sns\n",
    "from sklearn.model_selection import train_test_split\n",
    "from sklearn.linear_model import LinearRegression\n",
    "from sklearn.metrics import mean_squared_error, r2_score\n",
    "import missingno as msno \n",
    "from datetime import datetime\n",
    "import statsmodels.api as sm\n",
    "import seaborn as sns"
   ]
  }
 ],
 "metadata": {
  "kernelspec": {
   "display_name": "Python 3 (ipykernel)",
   "language": "python",
   "name": "python3"
  },
  "language_info": {
   "codemirror_mode": {
    "name": "ipython",
    "version": 3
   },
   "file_extension": ".py",
   "mimetype": "text/x-python",
   "name": "python",
   "nbconvert_exporter": "python",
   "pygments_lexer": "ipython3",
   "version": "3.11.7"
  }
 },
 "nbformat": 4,
 "nbformat_minor": 2
}
